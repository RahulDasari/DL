{
 "cells": [
  {
   "cell_type": "code",
   "execution_count": 1,
   "id": "e1b8013a",
   "metadata": {
    "id": "e1b8013a"
   },
   "outputs": [
    {
     "data": {
      "text/plain": [
       "<torch._C.Generator at 0x7a42f41e4090>"
      ]
     },
     "execution_count": 1,
     "metadata": {},
     "output_type": "execute_result"
    }
   ],
   "source": [
    "import copy\n",
    "import numpy as np\n",
    "import gymnasium as gym\n",
    "from gymnasium import spaces\n",
    "import matplotlib.pyplot as plt\n",
    "import random\n",
    "from tqdm import tqdm\n",
    "import torch\n",
    "import torch.nn as nn\n",
    "import torch.optim as optim\n",
    "import torch.nn.functional as F\n",
    "import math\n",
    "from collections import deque\n",
    "torch.autograd.set_detect_anomaly(True)\n",
    "device = torch.device(\"cuda\" if torch.cuda.is_available() else \"cpu\")\n",
    "torch.manual_seed(4723156438169548417)"
   ]
  },
  {
   "cell_type": "code",
   "execution_count": 2,
   "id": "982deaa0",
   "metadata": {
    "id": "982deaa0"
   },
   "outputs": [],
   "source": [
    "class Actor(nn.Module):\n",
    "\n",
    "    def __init__(self, n_observations, n_actions):\n",
    "        super(Actor, self).__init__()\n",
    "        self.layer1 = nn.Linear(n_observations, 256)\n",
    "        self.layer2 = nn.Linear(256, 128)\n",
    "        self.layer3 = nn.Linear(128, 64)\n",
    "        self.layer4 = nn.Linear(64, n_actions)\n",
    "\n",
    "    def forward(self, x):\n",
    "        x = F.relu(self.layer1(x))\n",
    "        x = F.relu(self.layer2(x))\n",
    "        x = F.relu(self.layer3(x))\n",
    "        x = F.tanh(self.layer4(x))\n",
    "        return x\n",
    "\n",
    "\n",
    "class Critic(nn.Module):\n",
    "\n",
    "    def __init__(self, n_observations, n_actions):\n",
    "        super(Critic, self).__init__()\n",
    "        self.layer1 = nn.Linear(n_observations+n_actions, 256)\n",
    "        self.layer2 = nn.Linear(256, 128)\n",
    "        self.layer3 = nn.Linear(128, 64)\n",
    "        self.layer4 = nn.Linear(64, 1)\n",
    "\n",
    "    def forward(self, x):\n",
    "        x_1 = F.relu(self.layer1(x))\n",
    "        x_1 = F.relu(self.layer2(x_1))\n",
    "        x_1 = F.relu(self.layer3(x_1))\n",
    "        x_1 = self.layer4(x_1)\n",
    "        return x_1 \n"
   ]
  },
  {
   "cell_type": "code",
   "execution_count": 3,
   "id": "75db957b",
   "metadata": {},
   "outputs": [],
   "source": [
    "\n",
    "class ReplayMemory():\n",
    "\n",
    "    def __init__(self, capacity):\n",
    "        self.memory = deque([], maxlen=capacity)\n",
    "\n",
    "    def push(self, array):\n",
    "        self.memory.append(array)\n",
    "\n",
    "    def sample(self, batch_size):\n",
    "        return random.sample(self.memory, batch_size)\n",
    "\n",
    "    def __len__(self):\n",
    "        return len(self.memory)"
   ]
  },
  {
   "cell_type": "code",
   "execution_count": 4,
   "id": "9d8007b6",
   "metadata": {},
   "outputs": [],
   "source": [
    "class Agent():\n",
    "    def __init__(self,env):\n",
    "        self.env = env\n",
    "        n_actions = 8\n",
    "        n_observations = 27\n",
    "        self.replay_memory = ReplayMemory(10000)\n",
    "        self.actor = Actor(n_observations, n_actions).to(device)\n",
    "        self.critic = Critic(n_observations, n_actions).to(device)\n",
    "        self.actor_target = copy.deepcopy(self.actor)\n",
    "        self.critic_target = copy.deepcopy(self.critic)\n",
    "        self.actor_optimizer = torch.optim.Adam(self.actor.parameters(), lr=3e-4)\n",
    "        self.critic_optimizer = torch.optim.Adam(self.critic.parameters(), lr=3e-4)\n",
    "        self.criterion = nn.MSELoss()\n",
    "        self.cum_rewards_ddpg  = []\n",
    "        self.cum_reward = 0\n",
    "        \n",
    "    def update_weights(self , state_dict , state_dict_):\n",
    "        for key in state_dict_:\n",
    "            state_dict_[key] = state_dict[key]*0.75 + state_dict_[key]*(1-0.75)\n",
    "        return state_dict_\n",
    "        \n",
    "    def get_sample(self , size):\n",
    "        memory = self.replay_memory.sample(size)\n",
    "        states = torch.cat([i[0] for i in memory]).float()\n",
    "        actions = torch.cat([i[1] for i in memory]).float()\n",
    "        next_states = torch.cat([i[2] for i in memory]).float()\n",
    "        rewards = torch.cat([i[3] for i in memory]).float()\n",
    "        finals = torch.cat([i[4] for i in memory]).float()\n",
    "        return states, actions, next_states, rewards, finals\n",
    "\n",
    "    def step(self , state):\n",
    "        action = self.actor(state)\n",
    "        observation, reward, terminated, truncated, _ = self.env.step(action.squeeze(0).cpu().detach().numpy())\n",
    "        self.cum_reward += reward\n",
    "        reward = torch.tensor([reward], device=device)\n",
    "        next_state = torch.zeros(len(observation) , device = device ).unsqueeze(0) if terminated else torch.tensor(observation, dtype=torch.float32, device=device).unsqueeze(0)\n",
    "        final = torch.tensor([False], device=device) if terminated else torch.tensor([True], device=device)\n",
    "        self.replay_memory.push([state, action, next_state, reward , final])\n",
    "        return next_state , terminated or truncated\n",
    "           \n",
    "    \n",
    "    def train(self, eps):\n",
    "        self.cum_reward = 0 \n",
    "        for episode in tqdm(range(eps)):\n",
    "            state, info = env.reset()\n",
    "            state = torch.tensor(state, dtype=torch.float32, device=device).unsqueeze(0)\n",
    "            for iteration in range(3000):\n",
    "                state, done = self.step(state)\n",
    "                if done:\n",
    "                    break\n",
    "                elif len(self.replay_memory) < 100:\n",
    "                    pass\n",
    "                else:\n",
    "                    states, actions, next_states, rewards , finals= self.get_sample(64)\n",
    "                    next_state_actions = self.actor_target(next_states)\n",
    "                    with torch.no_grad():\n",
    "                        critic_next_target = self.critic_target(torch.cat([next_states, next_state_actions], 1))\n",
    "                        next_q_value = rewards + finals * 0.9 * critic_next_target.squeeze(1)\n",
    "                    critic_q_values = self.critic(torch.cat([states, actions], 1))\n",
    "                    critic_loss = F.mse_loss(critic_q_values.squeeze(1), next_q_value)\n",
    "                    \n",
    "                    self.critic_optimizer.zero_grad()\n",
    "                    critic_loss.backward(retain_graph = True)\n",
    "                    self.critic_optimizer.step()\n",
    "                    \n",
    "                    actor_loss = -self.critic(torch.cat([states, self.actor(states)], 1)).mean()\n",
    "                    self.actor_optimizer.zero_grad()\n",
    "                    actor_loss.backward(retain_graph = True)\n",
    "                    self.actor_optimizer.step()\n",
    "            self.cum_rewards_ddpg.append(self.cum_reward)\n",
    "            self.cum_reward = 0\n",
    "            if not episode%5:\n",
    "                self.critic_target.load_state_dict(self.update_weights(self.critic.state_dict() , self.critic_target.state_dict()))\n",
    "                self.actor_target.load_state_dict(self.update_weights(self.actor.state_dict() , self.actor_target.state_dict()))\n"
   ]
  },
  {
   "cell_type": "code",
   "execution_count": 5,
   "id": "5ef97d0c",
   "metadata": {
    "id": "5ef97d0c",
    "scrolled": true
   },
   "outputs": [
    {
     "name": "stderr",
     "output_type": "stream",
     "text": [
      "100%|███████████████████████████████████████| 100/100 [1:50:35<00:00, 66.35s/it]\n"
     ]
    }
   ],
   "source": [
    "env = gym.make('Ant-v4')\n",
    "agent = Agent(env)\n",
    "agent.train(100)"
   ]
  },
  {
   "cell_type": "code",
   "execution_count": 6,
   "id": "452a462e",
   "metadata": {},
   "outputs": [
    {
     "data": {
      "image/png": "[encoded data removed]",
      "text/plain": [
       "<Figure size 640x480 with 1 Axes>"
      ]
     },
     "metadata": {},
     "output_type": "display_data"
    }
   ],
   "source": [
    "\n",
    "plt.figure()\n",
    "plt.plot(agent.cum_rewards_ddpg)\n",
    "plt.xlabel('Episode', fontsize=20)\n",
    "plt.ylabel('Cumulative Reward', fontsize=20)\n",
    "plt.title('Cumulative Reward Per Episode', fontsize=24)\n",
    "plt.xticks(fontsize=10)\n",
    "plt.xlim(xmin=0, xmax=len(agent.cum_rewards_ddpg))\n",
    "plt.grid()\n",
    "plt.show()"
   ]
  },
  {
   "cell_type": "code",
   "execution_count": null,
   "id": "50a4ce40",
   "metadata": {},
   "outputs": [],
   "source": [
    "cum_reward = 0\n",
    "cum_rewards_ = []\n",
    "for episode in range(10):\n",
    "    state, info = env.reset()\n",
    "    state = torch.tensor(state, dtype=torch.float32, device=device).unsqueeze(0)\n",
    "    cum_rewards_.append(cum_reward)\n",
    "    cum_reward = 0\n",
    "    for t in range(3000):\n",
    "        action = agent.actor(state)\n",
    "        observation, reward, terminated, truncated, _ = env.step(action.squeeze(0).cpu().detach().numpy())\n",
    "        cum_reward += reward\n",
    "        next_state = None if terminated else torch.tensor(observation, dtype=torch.float32, device=device).unsqueeze(0)\n",
    "        state = next_state\n",
    "        if terminated or truncated:\n",
    "            break"
   ]
  },
  {
   "cell_type": "code",
   "execution_count": null,
   "id": "23942bc2-e95a-44a2-a732-dda892aed272",
   "metadata": {
    "id": "23942bc2-e95a-44a2-a732-dda892aed272",
    "outputId": "59c77533-c6a5-4960-d2f4-896b204754e6",
    "scrolled": false
   },
   "outputs": [],
   "source": [
    "plt.figure()\n",
    "plt.plot(cum_rewards_)\n",
    "plt.xlabel('Episode', fontsize=20)\n",
    "plt.ylabel('Cumulative Reward', fontsize=20)\n",
    "plt.title('Cumulative Reward Per Episode', fontsize=24)\n",
    "plt.xticks(fontsize=10)\n",
    "plt.xlim(xmin=0, xmax=len(cum_rewards_))\n",
    "plt.grid()\n",
    "plt.show()"
   ]
  },
  {
   "cell_type": "code",
   "execution_count": null,
   "id": "e23fa0be",
   "metadata": {
    "id": "e23fa0be"
   },
   "outputs": [],
   "source": [
    "torch.save(actor.state_dict(), 'ddpg_actor')\n",
    "torch.save(actor_.state_dict(), 'ddpg_actor_target')\n",
    "torch.save(critic.state_dict(), 'ddpg_critic')\n",
    "torch.save(critic_.state_dict(), 'ddpg_critic_target')"
   ]
  },
  {
   "cell_type": "code",
   "execution_count": null,
   "id": "6128c6a6",
   "metadata": {},
   "outputs": [],
   "source": []
  }
 ],
 "metadata": {
  "colab": {
   "provenance": []
  },
  "kernelspec": {
   "display_name": "Python 3 (ipykernel)",
   "language": "python",
   "name": "python3"
  },
  "language_info": {
   "codemirror_mode": {
    "name": "ipython",
    "version": 3
   },
   "file_extension": ".py",
   "mimetype": "text/x-python",
   "name": "python",
   "nbconvert_exporter": "python",
   "pygments_lexer": "ipython3",
   "version": "3.10.9"
  }
 },
 "nbformat": 4,
 "nbformat_minor": 5
}
